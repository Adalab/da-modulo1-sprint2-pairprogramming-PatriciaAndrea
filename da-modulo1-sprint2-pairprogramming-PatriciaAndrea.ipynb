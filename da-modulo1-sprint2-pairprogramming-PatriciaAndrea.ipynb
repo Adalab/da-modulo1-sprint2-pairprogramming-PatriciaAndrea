{
 "cells": [
  {
   "cell_type": "markdown",
   "metadata": {},
   "source": [
    "## Pair programming Sentencias de Control"
   ]
  },
  {
   "cell_type": "markdown",
   "metadata": {},
   "source": [
    "1. Imprimir los números del 1 al 5 utilizando un bucle for\n",
    "Descripción: Utiliza un bucle for para imprimir los números del 1 al 50 (incluido) en orden ascendente."
   ]
  },
  {
   "cell_type": "code",
   "execution_count": 1,
   "metadata": {},
   "outputs": [
    {
     "name": "stdout",
     "output_type": "stream",
     "text": [
      "1\n",
      "2\n",
      "3\n",
      "4\n",
      "5\n",
      "6\n",
      "7\n",
      "8\n",
      "9\n",
      "10\n",
      "11\n",
      "12\n",
      "13\n",
      "14\n",
      "15\n",
      "16\n",
      "17\n",
      "18\n",
      "19\n",
      "20\n",
      "21\n",
      "22\n",
      "23\n",
      "24\n",
      "25\n",
      "26\n",
      "27\n",
      "28\n",
      "29\n",
      "30\n",
      "31\n",
      "32\n",
      "33\n",
      "34\n",
      "35\n",
      "36\n",
      "37\n",
      "38\n",
      "39\n",
      "40\n",
      "41\n",
      "42\n",
      "43\n",
      "44\n",
      "45\n",
      "46\n",
      "47\n",
      "48\n",
      "49\n",
      "50\n"
     ]
    }
   ],
   "source": [
    "for num in range (1,51):\n",
    "    print(num)"
   ]
  },
  {
   "cell_type": "markdown",
   "metadata": {},
   "source": [
    "2. Calcular la suma de los primeros 10 números naturales utilizando un bucle for\n",
    "Descripción: Utiliza un bucle for para calcular la suma de los primeros 10 números naturales (1 + 2 + 3 + ... + 10)."
   ]
  },
  {
   "cell_type": "code",
   "execution_count": 2,
   "metadata": {},
   "outputs": [
    {
     "name": "stdout",
     "output_type": "stream",
     "text": [
      "55\n"
     ]
    }
   ],
   "source": [
    "suma = 0 \n",
    "for num in range (1, 11): \n",
    "    suma = suma + num \n",
    "print(suma)"
   ]
  },
  {
   "cell_type": "markdown",
   "metadata": {},
   "source": [
    "3. Calcular el producto de los elementos de una lista\n",
    "Descripción: Dada una lista de números, utiliza un bucle for para calcular el producto de todos los elementos."
   ]
  },
  {
   "cell_type": "code",
   "execution_count": 3,
   "metadata": {},
   "outputs": [
    {
     "name": "stdout",
     "output_type": "stream",
     "text": [
      "5040\n"
     ]
    }
   ],
   "source": [
    "lista1 = [2, 5, 7, 8, 9]\n",
    "producto = 1 \n",
    "for num in lista1:\n",
    "    producto = producto * num\n",
    "print(producto)    "
   ]
  },
  {
   "cell_type": "markdown",
   "metadata": {},
   "source": [
    "4. Imprimir los caracteres de una cadena de texto\n",
    "Descripción: Dada una cadena de texto, utiliza un bucle for para imprimir cada carácter en una línea separada."
   ]
  },
  {
   "cell_type": "code",
   "execution_count": 4,
   "metadata": {},
   "outputs": [
    {
     "name": "stdout",
     "output_type": "stream",
     "text": [
      "E\n",
      "l\n",
      " \n",
      "c\n",
      "i\n",
      "e\n",
      "l\n",
      "o\n",
      " \n",
      "e\n",
      "s\n",
      " \n",
      "a\n",
      "z\n",
      "u\n",
      "l\n"
     ]
    }
   ],
   "source": [
    "frase1 = (\"El cielo es azul\")\n",
    "for letra in frase1:\n",
    "    print(letra)"
   ]
  },
  {
   "cell_type": "markdown",
   "metadata": {},
   "source": [
    "5. Imprimir los números pares del 1 al 100 utilizando un bucle for\n",
    "Descripción: Utiliza un bucle for para imprimir los números pares del 1 al 100 en orden ascendente."
   ]
  },
  {
   "cell_type": "code",
   "execution_count": 6,
   "metadata": {},
   "outputs": [
    {
     "name": "stdout",
     "output_type": "stream",
     "text": [
      "2\n",
      "4\n",
      "6\n",
      "8\n",
      "10\n",
      "12\n",
      "14\n",
      "16\n",
      "18\n",
      "20\n",
      "22\n",
      "24\n",
      "26\n",
      "28\n",
      "30\n",
      "32\n",
      "34\n",
      "36\n",
      "38\n",
      "40\n",
      "42\n",
      "44\n",
      "46\n",
      "48\n",
      "50\n",
      "52\n",
      "54\n",
      "56\n",
      "58\n",
      "60\n",
      "62\n",
      "64\n",
      "66\n",
      "68\n",
      "70\n",
      "72\n",
      "74\n",
      "76\n",
      "78\n",
      "80\n",
      "82\n",
      "84\n",
      "86\n",
      "88\n",
      "90\n",
      "92\n",
      "94\n",
      "96\n",
      "98\n",
      "100\n"
     ]
    }
   ],
   "source": [
    "for num in range (1,101):\n",
    "    if num % 2 == 0:\n",
    "        print(num)"
   ]
  },
  {
   "cell_type": "markdown",
   "metadata": {},
   "source": [
    "6. Imprimir los números primos del 1 al 50 utilizando un bucle for\n",
    "\n",
    "Descripción: Utiliza un bucle for para imprimir los números primos del 1 al 50 en orden ascendente.\n",
    "\n",
    "NOTA: Según la Wikipedia, un número primo es un número natural mayor que 1 que no tiene divisores positivos más que 1 y él mismo."
   ]
  },
  {
   "cell_type": "code",
   "execution_count": 43,
   "metadata": {},
   "outputs": [],
   "source": [
    "## eliminamos multiplos de 2   (%2 ==0)\n",
    "## eliminamos multiplos de 3 (%3 ==0)\n",
    "## eliminamos multiplos de 5\n",
    "### eliminamos multiplos de 7 \n",
    "### los 10 primeros tienen que ser divisibles entre si mismos, a partir del 11 es otra historia\n"
   ]
  },
  {
   "cell_type": "code",
   "execution_count": 47,
   "metadata": {},
   "outputs": [
    {
     "name": "stdout",
     "output_type": "stream",
     "text": [
      "1\n",
      "2\n",
      "3\n",
      "5\n",
      "7\n",
      "11\n",
      "13\n",
      "17\n",
      "19\n",
      "23\n",
      "29\n",
      "31\n",
      "37\n",
      "41\n",
      "43\n",
      "47\n"
     ]
    }
   ],
   "source": [
    "\n",
    "for num in range (1,51):\n",
    "    if num >1 and num <11 and num /2 == 1 or num /3 == 1 or num /5 == 1 or num /7 == 1:\n",
    "        print(num)\n",
    "    elif num %2 != 0 and num %3 != 0 and num %5 != 0  and num %7 != 0:\n",
    "        print(num)\n",
    "\n",
    "\n",
    "## necesitamos sacar el 1 ya que no es primo, le damos una vuelta"
   ]
  },
  {
   "cell_type": "markdown",
   "metadata": {},
   "source": [
    "7. Calcular el factorial de un número utilizando un bucle for\n",
    "\n",
    "Descripción: Dado un número entero positivo, calcula su factorial utilizando un bucle for."
   ]
  },
  {
   "cell_type": "code",
   "execution_count": 51,
   "metadata": {},
   "outputs": [
    {
     "name": "stdout",
     "output_type": "stream",
     "text": [
      "120\n"
     ]
    }
   ],
   "source": [
    "num = int (input(\"Escribe un número entero positivo\"))\n",
    "lista_7 = list(range (1,num))\n",
    "lista_7.append (num)\n",
    "factorial = 1\n",
    "for numero_entero in lista_7:\n",
    "    factorial = factorial * numero_entero\n",
    "print (factorial)\n"
   ]
  },
  {
   "cell_type": "code",
   "execution_count": 49,
   "metadata": {},
   "outputs": [
    {
     "name": "stdout",
     "output_type": "stream",
     "text": [
      "[1, 2, 3, 4]\n"
     ]
    }
   ],
   "source": [
    "#prueba\n",
    "num = int (input(\"Escribe un número entero positivo\"))\n",
    "lista_7 = list(range (1,num))\n",
    "print(lista_7)"
   ]
  },
  {
   "cell_type": "code",
   "execution_count": 52,
   "metadata": {},
   "outputs": [
    {
     "data": {
      "text/plain": [
       "120"
      ]
     },
     "execution_count": 52,
     "metadata": {},
     "output_type": "execute_result"
    }
   ],
   "source": [
    "5*4*3*2"
   ]
  },
  {
   "cell_type": "markdown",
   "metadata": {},
   "source": [
    "8. Juego de adivinar palabras utilizando un bucle for\n",
    "\n",
    "Descripción: Crea un juego en el que el jugador debe adivinar una palabra secreta. El jugador tiene un número limitado de intentos y se le proporcionan pistas después de cada intento. Utiliza un bucle for para controlar los intentos del jugador."
   ]
  },
  {
   "cell_type": "code",
   "execution_count": null,
   "metadata": {},
   "outputs": [],
   "source": [
    "palabra_secreta = \"adivinanza\"\n",
    "contador = 0 \n",
    "while contador <=5:\n",
    "    palabra = input(\"Adivina la palabra secreta\")\n",
    "    if palabra != palabra_secreta:\n",
    "        "
   ]
  }
 ],
 "metadata": {
  "kernelspec": {
   "display_name": "base",
   "language": "python",
   "name": "python3"
  },
  "language_info": {
   "codemirror_mode": {
    "name": "ipython",
    "version": 3
   },
   "file_extension": ".py",
   "mimetype": "text/x-python",
   "name": "python",
   "nbconvert_exporter": "python",
   "pygments_lexer": "ipython3",
   "version": "3.9.7"
  }
 },
 "nbformat": 4,
 "nbformat_minor": 2
}
