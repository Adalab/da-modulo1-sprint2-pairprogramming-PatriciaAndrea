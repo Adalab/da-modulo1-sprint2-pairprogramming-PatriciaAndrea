{
 "cells": [
  {
   "cell_type": "markdown",
   "metadata": {},
   "source": [
    "# **Pair programming Clases**"
   ]
  },
  {
   "cell_type": "code",
   "execution_count": 60,
   "metadata": {},
   "outputs": [],
   "source": [
    "class Empleados: \n",
    "    def __init__(self, nombre, apellidos, edad, posicion, año, vacaciones,herramientas):\n",
    "        \n",
    "        self.nombre = nombre\n",
    "        self.apellidos = apellidos\n",
    "        self.edad = edad\n",
    "        self.posicion = posicion\n",
    "        self.año = año        \n",
    "        self.vacaciones = vacaciones              #vacaciones restantes\n",
    "        self.herramientas = herramientas\n",
    "\n",
    "    #1 método descripción\n",
    "    def descripcion(self):\n",
    "        return f\"El nombre del empleado es: {self.nombre}, su posición es: {self.posicion}, el año es: {self.año}, y le quedan {self.vacaciones} días de vacaciones por disfrutar\"\n",
    "\n",
    "    #2 método cambiando herramientas \\ ponemos el indicado \"cambiado_posición\" pero debería ser \"cambiando_herramienta\"\n",
    "    def cambiando_posicion(self):\n",
    "        if \"python\" == self.herramientas:\n",
    "            return \"BRAVO.PYTHON ES LA HERRAMIENTA ADECUADA 😊\"\n",
    "        \n",
    "        elif \"excel\" == self.herramientas:\n",
    "            return \"Te sugerimos que utilices Python en lugar de Excel\"\n",
    "\n",
    "    #3 método antigüedad       QUEDA POR TERMINAR ESTE MÉTODO\n",
    "    import datetime\n",
    "\n",
    "    def calcular_antiguedad(self):\n",
    "        pass\n",
    "    \n",
    "    \n",
    "    #4 método solicitar aumento vacaciones:\n",
    "    def solicitar_aumento_vacaciones(self):\n",
    "        dias_solicitados = int(input('Indica los días de aumento de vacaciones que quieres solicitar:'))\n",
    "        if dias_solicitados > 0:\n",
    "            self.vacaciones += dias_solicitados\n",
    "            print(f\"Tu solicitud ha sido aprobada.Ahora tienes: {self.vacaciones} días de vacaciones\")\n",
    "            return self.vacaciones\n",
    "        else:\n",
    "            return \"Solicitud no admitida.Tienes que solicitar un número positivo\"    \n",
    "\n",
    "    #5 método registrar herramienta:\n",
    "    def registrar_herramienta(self):\n",
    "        #Validar la Nueva Herramienta\n",
    "        #Manejar Herramientas Duplicadas\n",
    "        if self.registrar_herramienta in self.herramientas: \n",
    "            return \"Esa herramnienta ya estába registrada\"             #evita la duplicidad de herramientas\n",
    "        elif self.registrar_herramienta not in self.herramientas:\n",
    "            self.herramientas += self.registrar_herramienta\n",
    "            print(f\"Hemos añadido tu herramienta: {self.registrar_herramientas}\")\n",
    "            return self.herramientas\n",
    "\n",
    "    #6 Método cambiar_posicion:\n",
    "    def cambiar_posicion(self):\n",
    "        #Actualizar la Posición y el Salario\n",
    "        nueva_posicion = input(\"Indica tu nueva posición\")\n",
    "        nuevo_salario = int(input(\"Introduce tu nuevo salario\"))\n",
    "        self.posición = nueva_posicion\n",
    "        self.salario = nuevo_salario\n",
    "\n",
    "        #Generar un Mensaje de Confirmación:\n",
    "        print(f\"Tu nueva posición es: {self.posicion}, y tu nuevo salario es: {self.salario}\")\n",
    "        return self.posicion, self.salario\n",
    "    \n",
    "    #7 Método tomar_vacaciones:\n",
    "    def tomar_vacaciones(self):\n",
    "        dias_vacaciones = int(input('¿Cuántos días de vacaciones quieres tomar?'))\n",
    "        if dias_vacaciones <= 0:\n",
    "            dias_vacaciones= int(input('Por favor, introduce un número válido'))\n",
    "\n",
    "        if dias_vacaciones <= self.vacaciones:\n",
    "            self.vacaciones -= dias_vacaciones\n",
    "            print('Solicitud realizada con éxito. Tus vacaciones están confirmadas')\n",
    "            return self.vacaciones\n",
    "        else:\n",
    "            print('Tu solicitud no se ha realizado. No dispones de suficientes días de vacaciones')\n",
    "    \n",
    "\n",
    "    #8 Método solicitar_aumento_salario:\n",
    "    \n",
    "    \n",
    "\n",
    "\n",
    "\n",
    "\n",
    "\n",
    "\n"
   ]
  },
  {
   "cell_type": "code",
   "execution_count": 61,
   "metadata": {},
   "outputs": [],
   "source": [
    "empresa = Empleados ('Eva','Bravo','50','profesora','2018',20 ,['excel','access']  )"
   ]
  },
  {
   "cell_type": "code",
   "execution_count": 5,
   "metadata": {},
   "outputs": [],
   "source": [
    " # importamos modulo datetime que necesitamos:\n",
    "\n",
    "import datetime\n",
    "from datetime import date\n",
    "from datetime import timedelta\n",
    "\n",
    "\n"
   ]
  },
  {
   "cell_type": "code",
   "execution_count": 66,
   "metadata": {},
   "outputs": [
    {
     "name": "stdout",
     "output_type": "stream",
     "text": [
      "6035 days, 0:00:00\n"
     ]
    }
   ],
   "source": [
    "from datetime import datetime, timedelta\n",
    "fecha_1 = \"10-04-2007\"\n",
    "fecha_2 = \"18-10-2023\"\n",
    "fecha1 = datetime.strptime(fecha_1,\"%d-%m-%Y\")\n",
    "fecha2 = datetime.strptime(fecha_2,\"%d-%m-%Y\")\n",
    "días_resto =  fecha2 - fecha1\n",
    "print(días_resto)\n",
    "\n",
    "\n"
   ]
  }
 ],
 "metadata": {
  "kernelspec": {
   "display_name": "base",
   "language": "python",
   "name": "python3"
  },
  "language_info": {
   "codemirror_mode": {
    "name": "ipython",
    "version": 3
   },
   "file_extension": ".py",
   "mimetype": "text/x-python",
   "name": "python",
   "nbconvert_exporter": "python",
   "pygments_lexer": "ipython3",
   "version": "3.9.7"
  }
 },
 "nbformat": 4,
 "nbformat_minor": 2
}
