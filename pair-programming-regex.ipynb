{
 "cells": [
  {
   "cell_type": "markdown",
   "metadata": {},
   "source": [
    "1. Validar un número de teléfono.\n",
    "Descripción: Verificar si una cadena representa un número de teléfono válido en el formato (XXX) XXX-XXXX."
   ]
  },
  {
   "cell_type": "code",
   "execution_count": 12,
   "metadata": {},
   "outputs": [],
   "source": [
    "import re"
   ]
  },
  {
   "cell_type": "code",
   "execution_count": 27,
   "metadata": {},
   "outputs": [
    {
     "name": "stdout",
     "output_type": "stream",
     "text": [
      "El numero (123) 456-7890 es correcto\n",
      "El numero 178 1890-733 no es correcto\n",
      "El numero (555) 238-1987 es correcto\n",
      "El numero (123) 4560-7890 no es correcto\n",
      "El numero (ABC) 098-1111 no es correcto\n"
     ]
    }
   ],
   "source": [
    "\n",
    "telefonos = [\"(123) 456-7890\", \"178 1890-733\", \"(555) 238-1987\", \"(123) 4560-7890\", \"(ABC) 098-1111\"]\n",
    "patron = '\\(\\d{3}\\) \\d{3}-\\d{4}'\n",
    "#iteramos sobre la lista\n",
    "for num in telefonos:\n",
    "    resutlado= re.findall(patron , num)\n",
    "    if len(resutlado) > 0:\n",
    "        print(f'El numero {num} es correcto')\n",
    "    else:\n",
    "        print(f'El numero {num} no es correcto')"
   ]
  },
  {
   "cell_type": "markdown",
   "metadata": {},
   "source": [
    "2. Buscar todas las direcciones de correo electrónico en un texto."
   ]
  },
  {
   "cell_type": "code",
   "execution_count": 28,
   "metadata": {},
   "outputs": [
    {
     "data": {
      "text/plain": [
       "[]"
      ]
     },
     "execution_count": 28,
     "metadata": {},
     "output_type": "execute_result"
    }
   ],
   "source": [
    "texto = \"Mi correo es user@example.com. Contacta []conmigo en john.doe@email.com\"\n",
    "patron_correo = '^\\w[@]\\w\\W[com]'\n",
    "re.findall(patron_correo,texto)"
   ]
  },
  {
   "cell_type": "code",
   "execution_count": 51,
   "metadata": {},
   "outputs": [
    {
     "data": {
      "text/plain": [
       "[' user@example.com', '.doe@email.com']"
      ]
     },
     "execution_count": 51,
     "metadata": {},
     "output_type": "execute_result"
    }
   ],
   "source": [
    "texto = \"Mi correo es user@example.com. Contacta conmigo en john.doe@email.com\"\n",
    "patron_correo = '\\W[a-z]+\\W[a-z]+\\Wcom'\n",
    "re.findall(patron_correo,texto)"
   ]
  },
  {
   "cell_type": "markdown",
   "metadata": {},
   "source": [
    "3 Validar un código postal.\n",
    "\n",
    "Descripción: Verificar si una cadena representa un código postal válido de 5 dígitos.\n",
    "\n",
    "Probad para cada uno de los códigos postales que tenemos en la siguiente lista:"
   ]
  },
  {
   "cell_type": "code",
   "execution_count": 52,
   "metadata": {},
   "outputs": [
    {
     "name": "stdout",
     "output_type": "stream",
     "text": [
      "El numero 12345 es correcto\n",
      "El numero 190037 es correcto\n",
      "El numero 78409 es correcto\n",
      "El numero 986449 es correcto\n",
      "El numero 19305 es correcto\n"
     ]
    }
   ],
   "source": [
    "codigos_postales = [\"12345\", \"190037\", \"78409\", \"986449\", \"19305\"]\n",
    "patron3 = '\\d{5}'\n",
    "\n",
    "for num in codigos_postales:\n",
    "    codigos= re.findall(patron3 , num)\n",
    "    if len(codigos) <6 :\n",
    "        print(f'El numero {num} es correcto')\n",
    "    else:\n",
    "        print(f'El numero {num} no es correcto')\n"
   ]
  }
 ],
 "metadata": {
  "kernelspec": {
   "display_name": "base",
   "language": "python",
   "name": "python3"
  },
  "language_info": {
   "codemirror_mode": {
    "name": "ipython",
    "version": 3
   },
   "file_extension": ".py",
   "mimetype": "text/x-python",
   "name": "python",
   "nbconvert_exporter": "python",
   "pygments_lexer": "ipython3",
   "version": "3.9.7"
  }
 },
 "nbformat": 4,
 "nbformat_minor": 2
}
